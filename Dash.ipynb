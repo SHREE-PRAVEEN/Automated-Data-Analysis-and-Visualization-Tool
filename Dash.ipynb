{
  "nbformat": 4,
  "nbformat_minor": 0,
  "metadata": {
    "colab": {
      "provenance": [],
      "authorship_tag": "ABX9TyOgkkpQ6uG2YZoVHimrki/0",
      "include_colab_link": true
    },
    "kernelspec": {
      "name": "python3",
      "display_name": "Python 3"
    },
    "language_info": {
      "name": "python"
    }
  },
  "cells": [
    {
      "cell_type": "markdown",
      "metadata": {
        "id": "view-in-github",
        "colab_type": "text"
      },
      "source": [
        "<a href=\"https://colab.research.google.com/github/SHREE-PRAVEEN/Automated-Data-Analysis-and-Visualization-Tool/blob/main/Dash.ipynb\" target=\"_parent\"><img src=\"https://colab.research.google.com/assets/colab-badge.svg\" alt=\"Open In Colab\"/></a>"
      ]
    },
    {
      "cell_type": "code",
      "source": [
        "!pip install dash\n",
        "!pip install plotly\n",
        "!pip install seaborn"
      ],
      "metadata": {
        "id": "igVLRJPmCkKM"
      },
      "execution_count": null,
      "outputs": []
    },
    {
      "cell_type": "code",
      "execution_count": null,
      "metadata": {
        "id": "gHUm8MJgCghF"
      },
      "outputs": [],
      "source": [
        "\n",
        "# Import necessary libraries\n",
        "import dash\n",
        "import dash_core_components as dcc\n",
        "import dash_html_components as html\n",
        "from dash.dependencies import Input, Output\n",
        "import plotly.express as px\n",
        "import pandas as pd\n",
        "import matplotlib.pyplot as plt\n",
        "import seaborn as sns\n",
        "import numpy as np\n",
        "\n",
        "# Initialize the app\n",
        "app = dash.Dash(__name__)\n",
        "\n",
        "# Load the dataset\n",
        "df = pd.DataFrame({\n",
        "    \"Category\": np.random.choice([\"A\", \"B\", \"C\"], size=100),\n",
        "    \"Values\": np.random.randn(100)\n",
        "})\n",
        "\n",
        "# Define the layout\n",
        "app.layout = html.Div([\n",
        "    html.H1(\"Data Analysis Dashboard\"),\n",
        "    html.Div([\n",
        "        html.H3(\"Select a plot type:\"),\n",
        "        dcc.Dropdown(\n",
        "            id=\"plot-type\",\n",
        "            options=[\n",
        "                {\"label\": \"Scatter Plot\", \"value\": \"scatter\"},\n",
        "                {\"label\": \"Bar Plot\", \"value\": \"bar\"},\n",
        "                {\"label\": \"Histogram\", \"value\": \"hist\"},\n",
        "                {\"label\": \"Box Plot\", \"value\": \"box\"}\n",
        "            ],\n",
        "            value=\"scatter\"\n",
        "        )\n",
        "    ]),\n",
        "    html.Div([\n",
        "        html.H3(\"Select a category:\"),\n",
        "        dcc.Dropdown(\n",
        "            id=\"category\",\n",
        "            options=[\n",
        "                {\"label\": \"All\", \"value\": \"all\"},\n",
        "                {\"label\": \"A\", \"value\": \"A\"},\n",
        "                {\"label\": \"B\", \"value\": \"B\"},\n",
        "                {\"label\": \"C\", \"value\": \"C\"}\n",
        "            ],\n",
        "            value=\"all\"\n",
        "        )\n",
        "    ]),\n",
        "    dcc.Graph(id=\"plot\")\n",
        "])\n",
        "\n",
        "# Define the callback function\n",
        "@app.callback(\n",
        "    Output(\"plot\", \"figure\"),\n",
        "    [Input(\"plot-type\", \"value\"),\n",
        "     Input(\"category\", \"value\")]\n",
        ")\n",
        "def update_plot(plot_type, category):\n",
        "    if category == \"all\":\n",
        "        df_filtered = df\n",
        "    else:\n",
        "        df_filtered = df[df[\"Category\"] == category]\n",
        "\n",
        "    if plot_type == \"scatter\":\n",
        "        fig = px.scatter(df_filtered, x=\"Values\", y=np.random.randn(len(df_filtered)))\n",
        "    elif plot_type == \"bar\":\n",
        "        df_grouped = df_filtered.groupby(\"Category\")[\"Values\"].mean().reset_index()\n",
        "        fig = px.bar(df_grouped, x=\"Category\", y=\"Values\")\n",
        "    elif plot_type == \"hist\":\n",
        "        fig = px.histogram(df_filtered, x=\"Values\")\n",
        "    elif plot_type == \"box\":\n",
        "        fig = px.box(df_filtered, x=\"Category\", y=\"Values\")\n",
        "\n",
        "    return fig\n",
        "\n",
        "# Run the app\n",
        "if __name__ == \"__main__\":\n",
        "    app.run_server(debug=True)"
      ]
    }
  ]
}